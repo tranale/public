{
  "nbformat": 4,
  "nbformat_minor": 0,
  "metadata": {
    "colab": {
      "name": "text-analysis.ipynb",
      "provenance": [],
      "toc_visible": true,
      "authorship_tag": "ABX9TyNFzqOjLNm9zVVhYODOYxuy",
      "include_colab_link": true
    },
    "kernelspec": {
      "name": "python3",
      "display_name": "Python 3"
    }
  },
  "cells": [
    {
      "cell_type": "markdown",
      "metadata": {
        "id": "view-in-github",
        "colab_type": "text"
      },
      "source": [
        "<a href=\"https://colab.research.google.com/github/tranale/public/blob/main/text_analysis.ipynb\" target=\"_parent\"><img src=\"https://colab.research.google.com/assets/colab-badge.svg\" alt=\"Open In Colab\"/></a>"
      ]
    },
    {
      "cell_type": "markdown",
      "metadata": {
        "id": "IoKyKVV_pX3Z"
      },
      "source": [
        "## Law on IP of Laos"
      ]
    },
    {
      "cell_type": "markdown",
      "metadata": {
        "id": "-sBe3LC9uGb3"
      },
      "source": [
        "To get the public file in Github "
      ]
    },
    {
      "cell_type": "code",
      "metadata": {
        "colab": {
          "base_uri": "https://localhost:8080/"
        },
        "id": "Tcp6_huPfD2_",
        "outputId": "31c0e6be-2b6d-4d7b-ad6f-a78d37f86e7b"
      },
      "source": [
        "!wget https://raw.githubusercontent.com/tranale/public/main/LA-Law-on-IP.txt\n"
      ],
      "execution_count": 2,
      "outputs": [
        {
          "output_type": "stream",
          "text": [
            "--2021-03-13 08:29:54--  https://raw.githubusercontent.com/tranale/public/main/LA-Law-on-IP.txt\n",
            "Resolving raw.githubusercontent.com (raw.githubusercontent.com)... 185.199.108.133, 185.199.109.133, 185.199.110.133, ...\n",
            "Connecting to raw.githubusercontent.com (raw.githubusercontent.com)|185.199.108.133|:443... connected.\n",
            "HTTP request sent, awaiting response... 200 OK\n",
            "Length: 148007 (145K) [text/plain]\n",
            "Saving to: ‘LA-Law-on-IP.txt’\n",
            "\n",
            "\rLA-Law-on-IP.txt      0%[                    ]       0  --.-KB/s               \rLA-Law-on-IP.txt    100%[===================>] 144.54K  --.-KB/s    in 0.01s   \n",
            "\n",
            "2021-03-13 08:29:54 (14.8 MB/s) - ‘LA-Law-on-IP.txt’ saved [148007/148007]\n",
            "\n"
          ],
          "name": "stdout"
        }
      ]
    },
    {
      "cell_type": "code",
      "metadata": {
        "colab": {
          "base_uri": "https://localhost:8080/"
        },
        "id": "IvWC3ALTueSx",
        "outputId": "7104c967-2043-4aae-f0a0-3c3f33a25f69"
      },
      "source": [
        "!head LA-Law-on-IP.txt"
      ],
      "execution_count": 3,
      "outputs": [
        {
          "output_type": "stream",
          "text": [
            "Article 1. Objectives\n",
            "This Law on Intellectual Property determines the principles, regulations and measures relating to the promotion of inventions, creativities, knowledge-based economy, management and protection of intellectual property rights, in order to ensure the legitimate interests of the owner of intellectual property and the interests of state, society, encourage the research and develop science and technology, the transfer of technology within the country and from abroad, effectively aiming to promote trade, investment and the competitiveness for the national economy in the era of globalization, contribute in the gradual industrialization and modernization of the country.\n",
            "\n",
            "Article 2 (revised). Intellectual Property\n",
            "Intellectual property is work of the human mind through inventions and creations.\n",
            "\n",
            " Article 3 (revised). Definitions\n",
            "The terms as used in this law have the following meanings:\n",
            "\n",
            "1. Intellectual property rights mean the rights of individuals, legal entities or organizations to their intellectual property;\n"
          ],
          "name": "stdout"
        }
      ]
    },
    {
      "cell_type": "code",
      "metadata": {
        "colab": {
          "base_uri": "https://localhost:8080/"
        },
        "id": "x5RKYD0Tur-Y",
        "outputId": "0656a9ad-a2b2-4c38-acc8-b14f41f57a8c"
      },
      "source": [
        "!tail LA-Law-on-IP.txt"
      ],
      "execution_count": 5,
      "outputs": [
        {
          "output_type": "stream",
          "text": [
            "The government of the Lao People’s Democratic Republic shall implement this law.\n",
            "\n",
            " \n",
            "\n",
            "Article 165. Effectiveness\n",
            "This law shall be effective 90 days after the President of the Lao People’s Democratic Republic issues the promulgating decree.\n",
            "\n",
            "This law supersedes the Law on Intellectual Property No. 08/NA dated December 24, 2007\n",
            "\n",
            "Regulations and provisions, which contradict this law, are hereby repealed.\n"
          ],
          "name": "stdout"
        }
      ]
    },
    {
      "cell_type": "code",
      "metadata": {
        "id": "mKXlewv_u0ck"
      },
      "source": [
        ""
      ],
      "execution_count": null,
      "outputs": []
    }
  ]
}